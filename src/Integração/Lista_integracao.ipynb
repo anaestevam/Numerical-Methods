{
  "nbformat": 4,
  "nbformat_minor": 0,
  "metadata": {
    "colab": {
      "provenance": []
    },
    "kernelspec": {
      "name": "python3",
      "display_name": "Python 3"
    },
    "language_info": {
      "name": "python"
    }
  },
  "cells": [
    {
      "cell_type": "markdown",
      "source": [
        "Implemente os métodos para calcular integrais seguindo o template disponível na conta do github do professor. Utilize diversos parâmetros para verificar o comportamento do erro conforme aumenta o número de nós ou subintervalos."
      ],
      "metadata": {
        "id": "IcSAbuuwf-oP"
      }
    },
    {
      "cell_type": "code",
      "source": [
        "import numpy as np\n",
        "\n",
        "def f(x):\n",
        "    return x * np.sin(x)\n",
        "\n",
        "def quadratura(a, b, n, k):\n",
        "    x, w = np.polynomial.legendre.leggauss(k)\n",
        "    #Mapeia os pontos de [-1, 1] para o intervalo [a, b]\n",
        "    t = 0.5 * (x + 1) * (b - a) + a\n",
        "    \n",
        "    #Avalia a função nos pontos e soma os resultados ponderados pelos pesos\n",
        "    result = np.sum(w * f(t))\n",
        "    \n",
        "    #Ajusta o resultado pelo tamanho do intervalo\n",
        "    result *= 0.5 * (b - a)\n",
        "    \n",
        "    return result\n",
        "\n",
        "\n",
        "# n = número de subintervalos da regra composta\n",
        "n = int(input('Digite o numero de subintervalos da regra composta: '))\n",
        "# k = numero de nos utilizados\n",
        "k = int(input('Digite o numero de nos (2, 3 ou 4): '))\n",
        "\n",
        "a = 0\n",
        "b = 5\n",
        "gt = -4.75447040395854\n",
        "\n",
        "res = quadratura(a, b, n, k)\n",
        "\n",
        "print('Valor calculado: ' + str(res))\n",
        "print('Valor real: ' + str(gt))\n",
        "print('Erro absoluto: ' + str(abs(res-gt)))\n",
        "\n"
      ],
      "metadata": {
        "id": "EcQSS4xruWTx"
      },
      "execution_count": null,
      "outputs": []
    },
    {
      "cell_type": "code",
      "source": [
        "#Template NewCotes.py\n",
        "\n",
        "import math, numpy as np\n",
        "\n",
        "def f(x):\n",
        "\treturn x*math.sin(x)\n",
        "\n",
        "def regraTrapezio(a, b, n):\n",
        "    h = (b - a) / n\n",
        "    \n",
        "    integral = f(a) + f(b)\n",
        "    \n",
        "    for i in range(1,n):\n",
        "        k = a + i*h\n",
        "        integral +=  2 * f(k)\n",
        "    \n",
        "    integral_definida = integral * h/2\n",
        "    \n",
        "    return integral_definida\n",
        "\n",
        "def regra13Simpson(a, b, n):\n",
        "    h = (b - a) / n\n",
        "    \n",
        "    integral = f(a) + f(b)\n",
        "    \n",
        "    for i in range(1,n):\n",
        "        k = a + i*h\n",
        "        \n",
        "        if i%2 == 0:\n",
        "            integral += 2 * f(k)\n",
        "        else:\n",
        "            integral += 4 * f(k)\n",
        "    \n",
        "    integral_definida = integral * h/3\n",
        "    \n",
        "    return integral_definida\n",
        "\n",
        "def regra38Simpson(a, b, n):\n",
        "    h = (b - a) / n\n",
        "\n",
        "    integral = f(a) + f(b)\n",
        "    \n",
        "    for i in range(1,n):\n",
        "        k = a + i*h\n",
        "        \n",
        "        if i%3 == 0:\n",
        "            integral += 2 * f(k)\n",
        "        else:\n",
        "            integral += 3 * f(k)\n",
        "    \n",
        "    integral_definida = integral * 3* h/8\n",
        "    \n",
        "    return integral_definida\n",
        "\n",
        "#n = numero de subintervalos da regra composta\n",
        "n = int(input('Digite o numero de subintervalos da regra composta: '))\n",
        "#k = numero de nos utilizados\n",
        "k = int(input('Digite o numero de nos: '))\n",
        "\n",
        "a = 0\n",
        "b = 5\n",
        "gt = -4.75447040395854\n",
        "\n",
        "if k == 2:\n",
        "    res = regraTrapezio(a, b, n)\n",
        "elif k == 3:\n",
        "    res = regra13Simpson(a, b, n)\n",
        "else:\n",
        "    res = regra38Simpson(a, b, n)\n",
        "print('Valor calculado: ' + str(res))\n",
        "print('Valor real: ' + str(gt))\n",
        "print('Erro absoluto: ' + str(abs(res-gt)))\n"
      ],
      "metadata": {
        "id": "EQwRKEO9gMoR"
      },
      "execution_count": null,
      "outputs": []
    },
    {
      "cell_type": "markdown",
      "source": [
        "Questão do automóvel\n"
      ],
      "metadata": {
        "id": "wMacBdVGwypz"
      }
    },
    {
      "cell_type": "code",
      "source": [
        "def regra_trapezio(v, a, b, n):\n",
        "    h = (b - a) / n  # Tamanho do intervalo\n",
        "    soma = v(a) + v(b)  # Soma dos valores nos extremos\n",
        "\n",
        "    # Soma ponderada dos valores intermediários\n",
        "    for i in range(1, n):\n",
        "        ti = a + i * h\n",
        "        soma += 2 * v(ti)\n",
        "\n",
        "    integral = (h / 2) * soma\n",
        "    return integral\n",
        "\n",
        "def v(t):\n",
        "    # Função de velocidade do automóvel\n",
        "    a = 2  # Aceleração constante\n",
        "    return a * t\n",
        "\n",
        "def tempo_percorrido_metade_distancia_total(c):\n",
        "    d = regra_trapezio(v, 0, c, 1000)  # Distância total percorrida pelo automóvel\n",
        "    t = regra_trapezio(v, 0, c, 1000) / 2  # Metade da distância total\n",
        "\n",
        "    # Encontrando o instante de tempo em que o automóvel percorreu metade da distância total\n",
        "    t_approx = 0\n",
        "    s = 0\n",
        "    while s < t:\n",
        "        t_approx += 0.001\n",
        "        s = regra_trapezio(v, 0, t_approx, 1000)\n",
        "\n",
        "    return t_approx\n",
        "  \n",
        "c = 10  # Tempo final do percurso\n",
        "\n",
        "tempo = tempo_percorrido_metade_distancia_total(c)\n",
        "\n",
        "print(f\"O instante de tempo em que o automóvel percorreu metade da distância total é: {tempo}\")"
      ],
      "metadata": {
        "id": "Ixxu6otlw2Ab",
        "colab": {
          "base_uri": "https://localhost:8080/"
        },
        "outputId": "6c8a8910-eb4c-438c-9a45-26cea02584f7"
      },
      "execution_count": 2,
      "outputs": [
        {
          "output_type": "stream",
          "name": "stdout",
          "text": [
            "O instante de tempo em que o automóvel percorreu metade da distância total é: 7.072000000000696\n"
          ]
        }
      ]
    }
  ]
}