{
 "cells": [
  {
   "cell_type": "code",
   "execution_count": 29,
   "metadata": {},
   "outputs": [
    {
     "ename": "TypeError",
     "evalue": "unsupported operand type(s) for *: 'numpy.ufunc' and 'numpy.ufunc'",
     "output_type": "error",
     "traceback": [
      "\u001b[0;31m---------------------------------------------------------------------------\u001b[0m",
      "\u001b[0;31mTypeError\u001b[0m                                 Traceback (most recent call last)",
      "Cell \u001b[0;32mIn[29], line 15\u001b[0m\n\u001b[1;32m     12\u001b[0m pts \u001b[39m=\u001b[39m data[:, \u001b[39m0\u001b[39m]\n\u001b[1;32m     13\u001b[0m r \u001b[39m=\u001b[39m data[:, \u001b[39m1\u001b[39m]\n\u001b[0;32m---> 15\u001b[0m b \u001b[39m=\u001b[39m (\u001b[39msum\u001b[39m(phi0(pts)\u001b[39m*\u001b[39;49mphi0(pts)))\n\u001b[1;32m     16\u001b[0m c \u001b[39m=\u001b[39m (\u001b[39msum\u001b[39m(phi0(pts)\u001b[39m*\u001b[39mphi1(pts)))\n\u001b[1;32m     17\u001b[0m d \u001b[39m=\u001b[39m (\u001b[39msum\u001b[39m(phi1(pts)\u001b[39m*\u001b[39mphi0(pts)))\n",
      "\u001b[0;31mTypeError\u001b[0m: unsupported operand type(s) for *: 'numpy.ufunc' and 'numpy.ufunc'"
     ]
    }
   ],
   "source": [
    "import numpy as np\n",
    "import matplotlib.pyplot as plt\n",
    "\n",
    "def phi0(x):\n",
    "    return np.sin\n",
    "def phi1(x):\n",
    "    return 2*np.power(x,2)\n",
    "\n",
    "caminho_arquivo = \"barcos.txt\"\n",
    "\n",
    "data = np.loadtxt(caminho_arquivo, delimiter=\" \")\n",
    "pts = data[:, 0]\n",
    "r = data[:, 1]\n",
    "\n",
    "b = (sum(phi0(pts)*phi0(pts)))\n",
    "c = (sum(phi0(pts)*phi1(pts)))\n",
    "d = (sum(phi1(pts)*phi0(pts)))\n",
    "e = (sum(phi1(pts)*phi1(pts)))\n",
    "f = (sum(r*phi0(pts)))\n",
    "g = (sum(r*phi1(pts)))\n",
    "\n",
    "a = np.linalg.solve(np.array([[b, c],[d, e]]), np.array([[f],[g]]))\n",
    "\n",
    "plt.scatter(pts,r)\n",
    "x = np.linspace(8,11,100)\n",
    "plt.plot(x,a[0]*phi0(x)+a[1]*phi1(x))\n",
    "plt.plot(pts)\n",
    "plt.show()\n",
    "\n",
    "#print(np.sum(phi0(pts)*))"
   ]
  }
 ],
 "metadata": {
  "kernelspec": {
   "display_name": "Python 3 (ipykernel)",
   "language": "python",
   "name": "python3"
  },
  "language_info": {
   "codemirror_mode": {
    "name": "ipython",
    "version": 3
   },
   "file_extension": ".py",
   "mimetype": "text/x-python",
   "name": "python",
   "nbconvert_exporter": "python",
   "pygments_lexer": "ipython3",
   "version": "3.10.4"
  },
  "orig_nbformat": 4
 },
 "nbformat": 4,
 "nbformat_minor": 2
}
