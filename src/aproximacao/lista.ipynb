{
 "cells": [
  {
   "cell_type": "code",
   "execution_count": 1,
   "metadata": {},
   "outputs": [
    {
     "ename": "ModuleNotFoundError",
     "evalue": "No module named 'matplotlib'",
     "output_type": "error",
     "traceback": [
      "\u001b[0;31m---------------------------------------------------------------------------\u001b[0m",
      "\u001b[0;31mModuleNotFoundError\u001b[0m                       Traceback (most recent call last)",
      "Cell \u001b[0;32mIn[1], line 2\u001b[0m\n\u001b[1;32m      1\u001b[0m \u001b[39mimport\u001b[39;00m \u001b[39mnumpy\u001b[39;00m \u001b[39mas\u001b[39;00m \u001b[39mnp\u001b[39;00m\n\u001b[0;32m----> 2\u001b[0m \u001b[39mimport\u001b[39;00m \u001b[39mmatplotlib\u001b[39;00m\u001b[39m.\u001b[39;00m\u001b[39mpyplot\u001b[39;00m \u001b[39mas\u001b[39;00m \u001b[39mplt\u001b[39;00m\n\u001b[1;32m      4\u001b[0m \u001b[39m#Fornecer o caminho local do arquivo \"pesos.txt\"\u001b[39;00m\n\u001b[1;32m      5\u001b[0m caminho_arquivo \u001b[39m=\u001b[39m \u001b[39m\"\u001b[39m\u001b[39mpesos.txt\u001b[39m\u001b[39m\"\u001b[39m\n",
      "\u001b[0;31mModuleNotFoundError\u001b[0m: No module named 'matplotlib'"
     ]
    }
   ],
   "source": [
    "import numpy as np\n",
    "import matplotlib.pyplot as plt\n",
    "\n",
    "#Fornecer o caminho local do arquivo \"pesos.txt\"\n",
    "caminho_arquivo = \"pesos.txt\"\n",
    "\n",
    "#Importar os dados\n",
    "data = np.loadtxt(caminho_arquivo, delimiter=\" \")\n",
    "altura = data[:, 0]\n",
    "peso = data[:, 1]\n",
    "\n",
    "#Calcular a função linear utilizando regressão linear\n",
    "A = np.vstack([altura, np.ones(len(altura))]).T\n",
    "m, c = np.linalg.lstsq(A, peso, rcond=None)[0]\n",
    "\n",
    "plt.scatter(altura, peso, color='b', label='Dados')\n",
    "plt.plot(altura, m*altura + c, color='r', label='Função linear')\n",
    "plt.xlabel('Altura (m)')\n",
    "plt.ylabel('Peso (kg)')\n",
    "plt.legend()\n",
    "plt.show()\n",
    "\n",
    "# Estimar o peso para uma altura de 2m10cm (2,10m)\n",
    "altura_estimada = 2.10\n",
    "peso_estimado = m * altura_estimada + c\n",
    "print(f'O peso estimado para uma altura de 2m10cm é de aproximadamente {peso_estimado:.2f} kg.')\n"
   ]
  },
  {
   "attachments": {},
   "cell_type": "markdown",
   "metadata": {},
   "source": []
  }
 ],
 "metadata": {
  "kernelspec": {
   "display_name": "Python 3 (ipykernel)",
   "language": "python",
   "name": "python3"
  },
  "language_info": {
   "codemirror_mode": {
    "name": "ipython",
    "version": 3
   },
   "file_extension": ".py",
   "mimetype": "text/x-python",
   "name": "python",
   "nbconvert_exporter": "python",
   "pygments_lexer": "ipython3",
   "version": "3.10.6"
  },
  "orig_nbformat": 4
 },
 "nbformat": 4,
 "nbformat_minor": 2
}
